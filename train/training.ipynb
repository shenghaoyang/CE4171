{
 "cells": [
  {
   "cell_type": "code",
   "execution_count": 1,
   "id": "every-partner",
   "metadata": {},
   "outputs": [],
   "source": [
    "import os\n",
    "import math\n",
    "\n",
    "from pathlib import Path\n",
    "from preprocess import *\n",
    "\n",
    "import matplotlib.pyplot as plt\n",
    "import numpy as np\n",
    "import seaborn as sns\n",
    "import tensorflow as tf\n",
    "\n",
    "from tensorflow.keras.layers.experimental import preprocessing\n",
    "from tensorflow.keras import layers, models"
   ]
  },
  {
   "cell_type": "markdown",
   "id": "excited-possession",
   "metadata": {},
   "source": [
    "Download the speech commands dataset if not already downloaded."
   ]
  },
  {
   "cell_type": "code",
   "execution_count": 2,
   "id": "smart-christian",
   "metadata": {},
   "outputs": [],
   "source": [
    "data_dir = download_speech_dataset(pathlib.Path(\"data/\"))"
   ]
  },
  {
   "cell_type": "code",
   "execution_count": 3,
   "id": "fallen-trick",
   "metadata": {},
   "outputs": [],
   "source": [
    "command_dirs = tuple(filter(Path.is_dir, pathlib.Path(data_dir).iterdir()))\n",
    "commands = [p.name for p in command_dirs]\n",
    "commands.sort()"
   ]
  },
  {
   "cell_type": "code",
   "execution_count": 4,
   "id": "physical-litigation",
   "metadata": {},
   "outputs": [
    {
     "name": "stdout",
     "output_type": "stream",
     "text": [
      "Number of samples: 8000\n",
      "Samples per label: 1000\n"
     ]
    }
   ],
   "source": [
    "filenames = tf.io.gfile.glob(str(data_dir) + '/*/*')\n",
    "np.random.shuffle(filenames)\n",
    "print(f\"Number of samples: {len(filenames)}\\n\"\n",
    "      f\"Samples per label: {sum(map(lambda _: 1, command_dirs[0].iterdir()))}\")"
   ]
  },
  {
   "cell_type": "markdown",
   "id": "presidential-circular",
   "metadata": {},
   "source": [
    "Split data into:\n",
    "\n",
    "- train\n",
    "- validation\n",
    "- test\n",
    "\n",
    "sets."
   ]
  },
  {
   "cell_type": "code",
   "execution_count": 5,
   "id": "exciting-cloud",
   "metadata": {},
   "outputs": [
    {
     "name": "stdout",
     "output_type": "stream",
     "text": [
      "Train, val, test sizes =  6400,800,800\n"
     ]
    }
   ],
   "source": [
    "splits = split_train_test_validate(filenames)\n",
    "\n",
    "print(\"Train, val, test sizes = \", \n",
    "      \",\".join(map(str,map(len, [splits[0], splits[2], splits[1]]))))"
   ]
  },
  {
   "cell_type": "markdown",
   "id": "compound-serum",
   "metadata": {},
   "source": [
    "Preprocess data in order to generate STFT spectrograms from the audio samples,\n",
    "and do batching of input data."
   ]
  },
  {
   "cell_type": "code",
   "execution_count": 6,
   "id": "visible-instruction",
   "metadata": {},
   "outputs": [],
   "source": [
    "batch_size = 16\n",
    "AUTOTUNE = tf.data.AUTOTUNE\n",
    "\n",
    "train_ds, val_ds, test_ds = tuple(\n",
    "    map(lambda files: preprocess_dataset(files, commands), splits))\n",
    "\n",
    "input_shape = next(iter(map(lambda t: t[0].shape, train_ds.take(1))))\n",
    "\n",
    "train_ds = train_ds.batch(batch_size)\n",
    "val_ds = val_ds.batch(batch_size)\n",
    "train_ds = train_ds.cache().prefetch(AUTOTUNE)\n",
    "val_ds = val_ds.cache().prefetch(AUTOTUNE)"
   ]
  },
  {
   "cell_type": "markdown",
   "id": "sacred-probe",
   "metadata": {},
   "source": [
    "Define the current model for audio recognition.\n",
    "\n",
    "Basic CNN model that runs on spectrogram images."
   ]
  },
  {
   "cell_type": "code",
   "execution_count": 7,
   "id": "collaborative-entrance",
   "metadata": {},
   "outputs": [
    {
     "name": "stdout",
     "output_type": "stream",
     "text": [
      "Model: \"sequential\"\n",
      "_________________________________________________________________\n",
      "Layer (type)                 Output Shape              Param #   \n",
      "=================================================================\n",
      "resizing (Resizing)          (None, 32, 32, 1)         0         \n",
      "_________________________________________________________________\n",
      "normalization (Normalization (None, 32, 32, 1)         3         \n",
      "_________________________________________________________________\n",
      "conv2d (Conv2D)              (None, 30, 30, 32)        320       \n",
      "_________________________________________________________________\n",
      "conv2d_1 (Conv2D)            (None, 28, 28, 64)        18496     \n",
      "_________________________________________________________________\n",
      "max_pooling2d (MaxPooling2D) (None, 14, 14, 64)        0         \n",
      "_________________________________________________________________\n",
      "dropout (Dropout)            (None, 14, 14, 64)        0         \n",
      "_________________________________________________________________\n",
      "flatten (Flatten)            (None, 12544)             0         \n",
      "_________________________________________________________________\n",
      "dense (Dense)                (None, 128)               1605760   \n",
      "_________________________________________________________________\n",
      "dropout_1 (Dropout)          (None, 128)               0         \n",
      "_________________________________________________________________\n",
      "dense_1 (Dense)              (None, 8)                 1032      \n",
      "=================================================================\n",
      "Total params: 1,625,611\n",
      "Trainable params: 1,625,608\n",
      "Non-trainable params: 3\n",
      "_________________________________________________________________\n"
     ]
    }
   ],
   "source": [
    "num_labels = len(commands)\n",
    "norm_layer = preprocessing.Normalization()\n",
    "norm_layer.adapt(train_ds.map(lambda x, _: x))\n",
    "\n",
    "model = models.Sequential([\n",
    "    layers.InputLayer(input_shape=input_shape),\n",
    "    preprocessing.Resizing(32, 32), \n",
    "    norm_layer,\n",
    "    layers.Conv2D(32, 3, activation='relu'),\n",
    "    layers.Conv2D(64, 3, activation='relu'),\n",
    "    layers.MaxPooling2D(),\n",
    "    layers.Dropout(0.25),\n",
    "    layers.Flatten(),\n",
    "    layers.Dense(128, activation='relu'),\n",
    "    layers.Dropout(0.5),\n",
    "    layers.Dense(num_labels),\n",
    "])\n",
    "\n",
    "model.summary()"
   ]
  },
  {
   "cell_type": "markdown",
   "id": "wanted-softball",
   "metadata": {},
   "source": [
    "Compile the model and target for accuracy."
   ]
  },
  {
   "cell_type": "code",
   "execution_count": 8,
   "id": "female-velvet",
   "metadata": {},
   "outputs": [],
   "source": [
    "model.compile(\n",
    "    optimizer=tf.keras.optimizers.Adam(),\n",
    "    loss=tf.keras.losses.SparseCategoricalCrossentropy(from_logits=True),\n",
    "    metrics=['accuracy'],\n",
    ")"
   ]
  },
  {
   "cell_type": "markdown",
   "id": "sonic-titanium",
   "metadata": {},
   "source": [
    "Train the model."
   ]
  },
  {
   "cell_type": "code",
   "execution_count": 9,
   "id": "focused-tonight",
   "metadata": {},
   "outputs": [
    {
     "name": "stdout",
     "output_type": "stream",
     "text": [
      "Epoch 1/20\n",
      "400/400 [==============================] - 8s 10ms/step - loss: 1.8184 - accuracy: 0.3394 - val_loss: 1.0440 - val_accuracy: 0.6787\n",
      "Epoch 2/20\n",
      "400/400 [==============================] - 3s 7ms/step - loss: 0.9711 - accuracy: 0.6520 - val_loss: 0.7255 - val_accuracy: 0.7738\n",
      "Epoch 3/20\n",
      "400/400 [==============================] - 3s 7ms/step - loss: 0.7370 - accuracy: 0.7338 - val_loss: 0.5912 - val_accuracy: 0.7950\n",
      "Epoch 4/20\n",
      "400/400 [==============================] - 3s 7ms/step - loss: 0.5621 - accuracy: 0.8062 - val_loss: 0.5387 - val_accuracy: 0.8138\n",
      "Epoch 5/20\n",
      "400/400 [==============================] - 3s 7ms/step - loss: 0.4740 - accuracy: 0.8315 - val_loss: 0.5099 - val_accuracy: 0.8238\n",
      "Epoch 6/20\n",
      "400/400 [==============================] - 3s 8ms/step - loss: 0.4248 - accuracy: 0.8508 - val_loss: 0.4772 - val_accuracy: 0.8300\n",
      "Epoch 7/20\n",
      "400/400 [==============================] - 3s 8ms/step - loss: 0.3797 - accuracy: 0.8631 - val_loss: 0.4723 - val_accuracy: 0.8388\n",
      "Epoch 8/20\n",
      "400/400 [==============================] - 3s 8ms/step - loss: 0.3512 - accuracy: 0.8757 - val_loss: 0.4377 - val_accuracy: 0.8525\n",
      "Epoch 9/20\n",
      "400/400 [==============================] - 3s 7ms/step - loss: 0.2938 - accuracy: 0.8991 - val_loss: 0.4560 - val_accuracy: 0.8512\n",
      "Epoch 10/20\n",
      "400/400 [==============================] - 3s 7ms/step - loss: 0.2644 - accuracy: 0.9036 - val_loss: 0.4722 - val_accuracy: 0.8612\n",
      "Epoch 00010: early stopping\n"
     ]
    }
   ],
   "source": [
    "EPOCHS = 20\n",
    "history = model.fit(\n",
    "    train_ds, \n",
    "    validation_data=val_ds,  \n",
    "    epochs=EPOCHS,\n",
    "    callbacks=tf.keras.callbacks.EarlyStopping(verbose=1, patience=2),\n",
    ")"
   ]
  },
  {
   "cell_type": "markdown",
   "id": "filled-attack",
   "metadata": {},
   "source": [
    "Visualize accuracy against epoch number."
   ]
  },
  {
   "cell_type": "code",
   "execution_count": 10,
   "id": "future-charity",
   "metadata": {},
   "outputs": [
    {
     "data": {
      "image/png": "[encoded data removed]",
      "text/plain": [
       "<Figure size 432x288 with 1 Axes>"
      ]
     },
     "metadata": {
      "needs_background": "light"
     },
     "output_type": "display_data"
    }
   ],
   "source": [
    "metrics = history.history\n",
    "plt.plot(history.epoch, metrics['accuracy'])\n",
    "plt.xlabel(\"Epoch\")\n",
    "plt.ylabel(\"Accuracy\")\n",
    "plt.show()"
   ]
  },
  {
   "cell_type": "markdown",
   "id": "tribal-ceiling",
   "metadata": {},
   "source": [
    "Run predictions on the test data."
   ]
  },
  {
   "cell_type": "code",
   "execution_count": 11,
   "id": "reserved-banks",
   "metadata": {},
   "outputs": [],
   "source": [
    "test_audio = np.zeros([len(splits[1])] + input_shape.as_list(), \n",
    "                      dtype=np.float32)\n",
    "test_labels = np.zeros([len(splits[1])], dtype=np.int)\n",
    "\n",
    "for i, (audio, label) in enumerate(test_ds.as_numpy_iterator()):\n",
    "    test_audio[i] = audio\n",
    "    test_labels[i] = label"
   ]
  },
  {
   "cell_type": "markdown",
   "id": "known-submission",
   "metadata": {},
   "source": [
    "Obtain accuracy of the model on the test data."
   ]
  },
  {
   "cell_type": "code",
   "execution_count": 12,
   "id": "palestinian-bobby",
   "metadata": {},
   "outputs": [
    {
     "name": "stdout",
     "output_type": "stream",
     "text": [
      "Test set accuracy: 85%\n"
     ]
    }
   ],
   "source": [
    "y_pred = np.argmax(model.predict(test_audio), axis=1)\n",
    "y_true = test_labels\n",
    "\n",
    "test_acc = np.sum(y_pred == y_true) / len(y_true)\n",
    "print(f'Test set accuracy: {test_acc:.0%}')"
   ]
  },
  {
   "cell_type": "markdown",
   "id": "marked-circumstances",
   "metadata": {},
   "source": [
    "Plot the confusion matrix."
   ]
  },
  {
   "cell_type": "code",
   "execution_count": 14,
   "id": "recreational-decision",
   "metadata": {},
   "outputs": [
    {
     "data": {
      "image/png": "[encoded data removed]",
      "text/plain": [
       "<Figure size 720x576 with 2 Axes>"
      ]
     },
     "metadata": {
      "needs_background": "light"
     },
     "output_type": "display_data"
    }
   ],
   "source": [
    "confusion_mtx = tf.math.confusion_matrix(y_true, y_pred)\n",
    "plt.figure(figsize=(10, 8))\n",
    "sns.heatmap(confusion_mtx, xticklabels=commands, yticklabels=commands, \n",
    "            annot=True, fmt='g')\n",
    "plt.xlabel('Prediction')\n",
    "plt.ylabel('Label')\n",
    "plt.show()"
   ]
  },
  {
   "cell_type": "markdown",
   "id": "manual-republic",
   "metadata": {},
   "source": [
    "Save the model so that it can be used for inference on the cloud."
   ]
  },
  {
   "cell_type": "code",
   "execution_count": 21,
   "id": "critical-question",
   "metadata": {},
   "outputs": [
    {
     "name": "stdout",
     "output_type": "stream",
     "text": [
      "INFO:tensorflow:Assets written to: saved/audiorecog/assets\n"
     ]
    }
   ],
   "source": [
    "model_path = pathlib.Path(\"saved/audiorecog\")\n",
    "if not (model_path_parent := model_path.parent).exists():\n",
    "    model_path_parent.mkdir(parents=True)\n",
    "model.save(model_path)"
   ]
  }
 ],
 "metadata": {
  "kernelspec": {
   "display_name": "Python 3",
   "language": "python",
   "name": "python3"
  },
  "language_info": {
   "codemirror_mode": {
    "name": "ipython",
    "version": 3
   },
   "file_extension": ".py",
   "mimetype": "text/x-python",
   "name": "python",
   "nbconvert_exporter": "python",
   "pygments_lexer": "ipython3",
   "version": "3.9.2"
  }
 },
 "nbformat": 4,
 "nbformat_minor": 5
}