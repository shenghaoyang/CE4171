{
 "cells": [
  {
   "cell_type": "code",
   "execution_count": 1,
   "id": "suspended-planner",
   "metadata": {},
   "outputs": [
    {
     "name": "stdout",
     "output_type": "stream",
     "text": [
      "INFO:tensorflow:Enabling eager execution\n",
      "INFO:tensorflow:Enabling v2 tensorshape\n",
      "INFO:tensorflow:Enabling resource variables\n",
      "INFO:tensorflow:Enabling tensor equality\n",
      "INFO:tensorflow:Enabling control flow v2\n"
     ]
    }
   ],
   "source": [
    "import os\n",
    "import math\n",
    "\n",
    "from pathlib import Path\n",
    "from preprocess import *\n",
    "\n",
    "import matplotlib.pyplot as plt\n",
    "import numpy as np\n",
    "import seaborn as sns\n",
    "import tensorflow as tf\n",
    "\n",
    "from tensorflow.data.experimental import save\n",
    "from tensorflow.keras.layers.experimental import preprocessing\n",
    "from tensorflow.keras import layers, models"
   ]
  },
  {
   "cell_type": "markdown",
   "id": "published-merchant",
   "metadata": {},
   "source": [
    "Download the speech commands dataset if not already downloaded."
   ]
  },
  {
   "cell_type": "code",
   "execution_count": 2,
   "id": "prescribed-eugene",
   "metadata": {},
   "outputs": [],
   "source": [
    "data_dir = download_speech_dataset(pathlib.Path(\"data/\"))"
   ]
  },
  {
   "cell_type": "code",
   "execution_count": 3,
   "id": "mighty-breast",
   "metadata": {},
   "outputs": [],
   "source": [
    "command_dirs = tuple(filter(Path.is_dir, pathlib.Path(data_dir).iterdir()))\n",
    "commands = [p.name for p in command_dirs]\n",
    "commands.sort()"
   ]
  },
  {
   "cell_type": "code",
   "execution_count": 4,
   "id": "received-roulette",
   "metadata": {},
   "outputs": [
    {
     "name": "stdout",
     "output_type": "stream",
     "text": [
      "Number of samples: 8000\n",
      "Samples per label: 1000\n"
     ]
    }
   ],
   "source": [
    "filenames = tf.io.gfile.glob(str(data_dir) + '/*/*')\n",
    "np.random.shuffle(filenames)\n",
    "print(f\"Number of samples: {len(filenames)}\\n\"\n",
    "      f\"Samples per label: {sum(map(lambda _: 1, command_dirs[0].iterdir()))}\")"
   ]
  },
  {
   "cell_type": "markdown",
   "id": "awful-westminster",
   "metadata": {},
   "source": [
    "Split data into:\n",
    "\n",
    "- train\n",
    "- validation\n",
    "- test\n",
    "\n",
    "sets."
   ]
  },
  {
   "cell_type": "code",
   "execution_count": 5,
   "id": "innocent-commission",
   "metadata": {},
   "outputs": [
    {
     "name": "stdout",
     "output_type": "stream",
     "text": [
      "Train, val, test sizes =  6400,800,800\n"
     ]
    }
   ],
   "source": [
    "splits = split_train_test_validate(filenames)\n",
    "\n",
    "print(\"Train, val, test sizes = \", \n",
    "      \",\".join(map(str,map(len, [splits[0], splits[2], splits[1]]))))"
   ]
  },
  {
   "cell_type": "markdown",
   "id": "cooperative-figure",
   "metadata": {},
   "source": [
    "Preprocess data in order to generate STFT spectrograms from the audio samples,\n",
    "and do batching of input data."
   ]
  },
  {
   "cell_type": "code",
   "execution_count": 6,
   "id": "processed-owner",
   "metadata": {},
   "outputs": [],
   "source": [
    "batch_size = 16\n",
    "AUTOTUNE = tf.data.AUTOTUNE\n",
    "\n",
    "train_ds, val_ds, test_ds = tuple(\n",
    "    map(lambda files: preprocess_dataset(files, commands), splits))\n",
    "\n",
    "input_shape = next(iter(map(lambda t: t[0].shape, train_ds.take(1))))\n",
    "\n",
    "train_ds = train_ds.batch(batch_size)\n",
    "val_ds = val_ds.batch(batch_size)\n",
    "train_ds = train_ds.cache().prefetch(AUTOTUNE)\n",
    "val_ds = val_ds.cache().prefetch(AUTOTUNE)"
   ]
  },
  {
   "cell_type": "markdown",
   "id": "sensitive-stand",
   "metadata": {},
   "source": [
    "Define the current model for audio recognition.\n",
    "\n",
    "Basic CNN model that runs on spectrogram images."
   ]
  },
  {
   "cell_type": "code",
   "execution_count": 7,
   "id": "growing-sterling",
   "metadata": {},
   "outputs": [
    {
     "name": "stdout",
     "output_type": "stream",
     "text": [
      "Model: \"sequential\"\n",
      "_________________________________________________________________\n",
      "Layer (type)                 Output Shape              Param #   \n",
      "=================================================================\n",
      "resizing (Resizing)          (None, 32, 32, 1)         0         \n",
      "_________________________________________________________________\n",
      "normalization (Normalization (None, 32, 32, 1)         3         \n",
      "_________________________________________________________________\n",
      "conv2d (Conv2D)              (None, 30, 30, 32)        320       \n",
      "_________________________________________________________________\n",
      "conv2d_1 (Conv2D)            (None, 28, 28, 64)        18496     \n",
      "_________________________________________________________________\n",
      "max_pooling2d (MaxPooling2D) (None, 14, 14, 64)        0         \n",
      "_________________________________________________________________\n",
      "dropout (Dropout)            (None, 14, 14, 64)        0         \n",
      "_________________________________________________________________\n",
      "flatten (Flatten)            (None, 12544)             0         \n",
      "_________________________________________________________________\n",
      "dense (Dense)                (None, 128)               1605760   \n",
      "_________________________________________________________________\n",
      "dropout_1 (Dropout)          (None, 128)               0         \n",
      "_________________________________________________________________\n",
      "dense_1 (Dense)              (None, 8)                 1032      \n",
      "=================================================================\n",
      "Total params: 1,625,611\n",
      "Trainable params: 1,625,608\n",
      "Non-trainable params: 3\n",
      "_________________________________________________________________\n"
     ]
    }
   ],
   "source": [
    "num_labels = len(commands)\n",
    "norm_layer = preprocessing.Normalization()\n",
    "norm_layer.adapt(train_ds.map(lambda x, _: x))\n",
    "\n",
    "model = models.Sequential([\n",
    "    layers.InputLayer(input_shape=input_shape),\n",
    "    preprocessing.Resizing(32, 32), \n",
    "    norm_layer,\n",
    "    layers.Conv2D(32, 3, activation='relu'),\n",
    "    layers.Conv2D(64, 3, activation='relu'),\n",
    "    layers.MaxPooling2D(),\n",
    "    layers.Dropout(0.25),\n",
    "    layers.Flatten(),\n",
    "    layers.Dense(128, activation='relu'),\n",
    "    layers.Dropout(0.5),\n",
    "    layers.Dense(num_labels),\n",
    "])\n",
    "\n",
    "model.summary()"
   ]
  },
  {
   "cell_type": "markdown",
   "id": "general-quilt",
   "metadata": {},
   "source": [
    "Compile the model and target for accuracy."
   ]
  },
  {
   "cell_type": "code",
   "execution_count": 8,
   "id": "english-arabic",
   "metadata": {},
   "outputs": [],
   "source": [
    "model.compile(\n",
    "    optimizer=tf.keras.optimizers.Adam(),\n",
    "    loss=tf.keras.losses.SparseCategoricalCrossentropy(from_logits=True),\n",
    "    metrics=['accuracy'],\n",
    ")"
   ]
  },
  {
   "cell_type": "markdown",
   "id": "rotary-puppy",
   "metadata": {},
   "source": [
    "Train the model."
   ]
  },
  {
   "cell_type": "code",
   "execution_count": 9,
   "id": "rough-enemy",
   "metadata": {},
   "outputs": [
    {
     "name": "stdout",
     "output_type": "stream",
     "text": [
      "Epoch 1/20\n",
      "400/400 [==============================] - 7s 8ms/step - loss: 1.8632 - accuracy: 0.3062 - val_loss: 1.0577 - val_accuracy: 0.6500\n",
      "Epoch 2/20\n",
      "400/400 [==============================] - 3s 7ms/step - loss: 1.1109 - accuracy: 0.6119 - val_loss: 0.7811 - val_accuracy: 0.7325\n",
      "Epoch 3/20\n",
      "400/400 [==============================] - 3s 8ms/step - loss: 0.8101 - accuracy: 0.7145 - val_loss: 0.6457 - val_accuracy: 0.7987\n",
      "Epoch 4/20\n",
      "400/400 [==============================] - 3s 7ms/step - loss: 0.6367 - accuracy: 0.7761 - val_loss: 0.5564 - val_accuracy: 0.8213\n",
      "Epoch 5/20\n",
      "400/400 [==============================] - 3s 7ms/step - loss: 0.5277 - accuracy: 0.8096 - val_loss: 0.5385 - val_accuracy: 0.8325\n",
      "Epoch 6/20\n",
      "400/400 [==============================] - 3s 8ms/step - loss: 0.4569 - accuracy: 0.8407 - val_loss: 0.5228 - val_accuracy: 0.8313\n",
      "Epoch 7/20\n",
      "400/400 [==============================] - 3s 8ms/step - loss: 0.4022 - accuracy: 0.8510 - val_loss: 0.4853 - val_accuracy: 0.8425\n",
      "Epoch 8/20\n",
      "400/400 [==============================] - 3s 7ms/step - loss: 0.3385 - accuracy: 0.8840 - val_loss: 0.5050 - val_accuracy: 0.8350\n",
      "Epoch 9/20\n",
      "400/400 [==============================] - 3s 7ms/step - loss: 0.3205 - accuracy: 0.8842 - val_loss: 0.4551 - val_accuracy: 0.8475\n",
      "Epoch 10/20\n",
      "400/400 [==============================] - 3s 8ms/step - loss: 0.2848 - accuracy: 0.9041 - val_loss: 0.4453 - val_accuracy: 0.8500\n",
      "Epoch 11/20\n",
      "400/400 [==============================] - 3s 8ms/step - loss: 0.2531 - accuracy: 0.9089 - val_loss: 0.4828 - val_accuracy: 0.8438\n",
      "Epoch 12/20\n",
      "400/400 [==============================] - 3s 8ms/step - loss: 0.2334 - accuracy: 0.9130 - val_loss: 0.4750 - val_accuracy: 0.8600\n",
      "Epoch 00012: early stopping\n"
     ]
    }
   ],
   "source": [
    "EPOCHS = 20\n",
    "history = model.fit(\n",
    "    train_ds, \n",
    "    validation_data=val_ds,  \n",
    "    epochs=EPOCHS,\n",
    "    callbacks=tf.keras.callbacks.EarlyStopping(verbose=1, patience=2),\n",
    ")"
   ]
  },
  {
   "cell_type": "markdown",
   "id": "moral-evans",
   "metadata": {},
   "source": [
    "Visualize accuracy against epoch number."
   ]
  },
  {
   "cell_type": "code",
   "execution_count": 10,
   "id": "equipped-wiring",
   "metadata": {},
   "outputs": [
    {
     "data": {
      "image/png": "[encoded data removed]",
      "text/plain": [
       "<Figure size 432x288 with 1 Axes>"
      ]
     },
     "metadata": {
      "needs_background": "light"
     },
     "output_type": "display_data"
    }
   ],
   "source": [
    "metrics = history.history\n",
    "plt.plot(history.epoch, metrics['accuracy'])\n",
    "plt.xlabel(\"Epoch\")\n",
    "plt.ylabel(\"Accuracy\")\n",
    "plt.show()"
   ]
  },
  {
   "cell_type": "markdown",
   "id": "otherwise-world",
   "metadata": {},
   "source": [
    "Run predictions on the test data."
   ]
  },
  {
   "cell_type": "code",
   "execution_count": 11,
   "id": "indoor-bishop",
   "metadata": {},
   "outputs": [],
   "source": [
    "test_audio = np.zeros([len(splits[1])] + input_shape.as_list(), \n",
    "                      dtype=np.float32)\n",
    "test_labels = np.zeros([len(splits[1])], dtype=np.int)\n",
    "\n",
    "for i, (audio, label) in enumerate(test_ds.as_numpy_iterator()):\n",
    "    test_audio[i] = audio\n",
    "    test_labels[i] = label"
   ]
  },
  {
   "cell_type": "markdown",
   "id": "outer-sister",
   "metadata": {},
   "source": [
    "Obtain accuracy of the model on the test data."
   ]
  },
  {
   "cell_type": "code",
   "execution_count": 12,
   "id": "joint-sight",
   "metadata": {},
   "outputs": [
    {
     "name": "stdout",
     "output_type": "stream",
     "text": [
      "Test set accuracy: 86%\n"
     ]
    }
   ],
   "source": [
    "y_pred = np.argmax(model.predict(test_audio), axis=1)\n",
    "y_true = test_labels\n",
    "\n",
    "test_acc = np.sum(y_pred == y_true) / len(y_true)\n",
    "print(f'Test set accuracy: {test_acc:.0%}')"
   ]
  },
  {
   "cell_type": "markdown",
   "id": "filled-intervention",
   "metadata": {},
   "source": [
    "Plot the confusion matrix."
   ]
  },
  {
   "cell_type": "code",
   "execution_count": 13,
   "id": "funny-cleveland",
   "metadata": {},
   "outputs": [
    {
     "data": {
      "image/png": "[encoded data removed]",
      "text/plain": [
       "<Figure size 720x576 with 2 Axes>"
      ]
     },
     "metadata": {
      "needs_background": "light"
     },
     "output_type": "display_data"
    }
   ],
   "source": [
    "confusion_mtx = tf.math.confusion_matrix(y_true, y_pred)\n",
    "plt.figure(figsize=(10, 8))\n",
    "sns.heatmap(confusion_mtx, xticklabels=commands, yticklabels=commands, \n",
    "            annot=True, fmt='g')\n",
    "plt.xlabel('Prediction')\n",
    "plt.ylabel('Label')\n",
    "plt.show()"
   ]
  },
  {
   "cell_type": "markdown",
   "id": "expensive-finding",
   "metadata": {},
   "source": [
    "Save the model so that it can be used for inference on the cloud."
   ]
  },
  {
   "cell_type": "code",
   "execution_count": 16,
   "id": "sitting-control",
   "metadata": {},
   "outputs": [
    {
     "name": "stdout",
     "output_type": "stream",
     "text": [
      "INFO:tensorflow:Assets written to: saved/audiorecog/assets\n"
     ]
    }
   ],
   "source": [
    "model_path = pathlib.Path(\"saved/audiorecog\")\n",
    "if not (model_path_parent := model_path.parent).exists():\n",
    "    model_path_parent.mkdir(parents=True)\n",
    "model.save(model_path)"
   ]
  },
  {
   "cell_type": "markdown",
   "id": "assumed-liberty",
   "metadata": {},
   "source": [
    "Save the validation data so that it can be reused for training on the cloud."
   ]
  },
  {
   "cell_type": "code",
   "execution_count": 18,
   "id": "starting-carbon",
   "metadata": {},
   "outputs": [],
   "source": [
    "validation_data_path = pathlib.Path(\"saved/validation\")\n",
    "save(val_ds, str(validation_data_path))"
   ]
  }
 ],
 "metadata": {
  "kernelspec": {
   "display_name": "Python 3",
   "language": "python",
   "name": "python3"
  },
  "language_info": {
   "codemirror_mode": {
    "name": "ipython",
    "version": 3
   },
   "file_extension": ".py",
   "mimetype": "text/x-python",
   "name": "python",
   "nbconvert_exporter": "python",
   "pygments_lexer": "ipython3",
   "version": "3.9.3"
  }
 },
 "nbformat": 4,
 "nbformat_minor": 5
}
